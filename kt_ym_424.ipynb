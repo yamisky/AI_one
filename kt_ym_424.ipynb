{
 "cells": [
  {
   "cell_type": "code",
   "execution_count": 7,
   "metadata": {},
   "outputs": [],
   "source": [
    "import numpy as np\n",
    "import tensorflow as tf\n",
    "from keras import layers\n",
    "from keras.layers import Input, Dense, Activation, ZeroPadding2D, BatchNormalization, Flatten, Conv2D\n",
    "from keras.layers import AveragePooling2D, MaxPooling2D, Dropout, GlobalMaxPooling2D, GlobalAveragePooling2D\n",
    "from keras.models import Model\n",
    "from keras.preprocessing import image\n",
    "from keras.utils import layer_utils\n",
    "from keras.utils.data_utils import get_file\n",
    "from keras.applications.imagenet_utils import preprocess_input\n",
    "import pydot\n",
    "from IPython.display import SVG\n",
    "from keras.utils.vis_utils import model_to_dot\n",
    "from keras.utils import plot_model\n",
    "from kt_utils import *\n",
    "\n",
    "import keras.backend as K\n",
    "K.set_image_data_format('channels_last')\n",
    "import matplotlib.pyplot as plt\n",
    "from matplotlib.pyplot import imshow\n",
    "\n",
    "\n",
    "from keras.callbacks import TensorBoard\n",
    "\n",
    "\n",
    "%matplotlib inline"
   ]
  },
  {
   "cell_type": "code",
   "execution_count": 8,
   "metadata": {},
   "outputs": [
    {
     "name": "stdout",
     "output_type": "stream",
     "text": [
      "number of training examples = 1488\n",
      "number of test examples = 450\n",
      "X_train shape: (1488, 225, 300, 1)\n",
      "Y_train shape: (1488, 1)\n",
      "X_test shape: (450, 225, 300, 1)\n",
      "Y_test shape: (450, 1)\n"
     ]
    }
   ],
   "source": [
    "X_train_orig, Y_train_orig, X_test_orig, Y_test_orig = load_dataset()\n",
    "\n",
    "# Normalize image vectors\n",
    "X_train = X_train_orig/255.\n",
    "X_test = X_test_orig/255.\n",
    "\n",
    "X_train = X_train.reshape((1488, 225, 300, 1))\n",
    "X_test = X_test.reshape((450, 225, 300, 1))\n",
    "\n",
    "# Reshape\n",
    "Y_train = Y_train_orig.T\n",
    "Y_test = Y_test_orig.T\n",
    "\n",
    "print (\"number of training examples = \" + str(X_train.shape[0]))\n",
    "print (\"number of test examples = \" + str(X_test.shape[0]))\n",
    "print (\"X_train shape: \" + str(X_train.shape))\n",
    "print (\"Y_train shape: \" + str(Y_train.shape))\n",
    "print (\"X_test shape: \" + str(X_test.shape))\n",
    "print (\"Y_test shape: \" + str(Y_test.shape))"
   ]
  },
  {
   "cell_type": "code",
   "execution_count": 9,
   "metadata": {},
   "outputs": [],
   "source": [
    "\n",
    "def HappyModel(input_shape):\n",
    "\n",
    "    X_input = Input(shape=input_shape)\n",
    "    X = ZeroPadding2D(padding=(1, 1))(X_input)\n",
    "    X = Conv2D(8, kernel_size=(3,3), strides=(1,1))(X)\n",
    "    X = BatchNormalization(axis=3)(X)\n",
    "    X = Activation('relu')(X)\n",
    "    X = MaxPooling2D(pool_size=(2,2), strides=(2,2), padding='valid')(X)\n",
    "    \n",
    "    X = ZeroPadding2D(padding=(1, 1))(X)\n",
    "    X = Conv2D(16, kernel_size=(3,3), strides=(1,1))(X)\n",
    "    X = BatchNormalization(axis=3)(X)\n",
    "    X = Activation('relu')(X)\n",
    "    X = MaxPooling2D(pool_size=(2,2), strides=(2,2), padding='valid')(X)\n",
    "    \n",
    "    X = ZeroPadding2D(padding=(1, 1))(X)\n",
    "    X = Conv2D(32, kernel_size=(3,3), strides=(1,1))(X)\n",
    "    X = BatchNormalization(axis=3)(X)\n",
    "    X = Activation('relu')(X)\n",
    "    X = MaxPooling2D(pool_size=(2,2), strides=(2,2), padding='valid')(X)\n",
    "    \n",
    "    # FC\n",
    "    X = Flatten()(X)\n",
    "    Y = Dense(1, activation='sigmoid')(X)\n",
    "    \n",
    "    model = Model(inputs = X_input, outputs = Y, name='HappyModel')\n",
    "\n",
    "    \n",
    "    return model"
   ]
  },
  {
   "cell_type": "code",
   "execution_count": 10,
   "metadata": {},
   "outputs": [],
   "source": [
    "happyModel = HappyModel((225, 300, 1))"
   ]
  },
  {
   "cell_type": "code",
   "execution_count": 11,
   "metadata": {},
   "outputs": [
    {
     "ename": "NameError",
     "evalue": "name 'keras' is not defined",
     "output_type": "error",
     "traceback": [
      "\u001b[1;31m---------------------------------------------------------------------------\u001b[0m",
      "\u001b[1;31mNameError\u001b[0m                                 Traceback (most recent call last)",
      "\u001b[1;32m<ipython-input-11-20a6fa1f9240>\u001b[0m in \u001b[0;36m<module>\u001b[1;34m()\u001b[0m\n\u001b[1;32m----> 1\u001b[1;33m \u001b[0mtbCallBack\u001b[0m \u001b[1;33m=\u001b[0m \u001b[0mkeras\u001b[0m\u001b[1;33m.\u001b[0m\u001b[0mcallbacks\u001b[0m\u001b[1;33m.\u001b[0m\u001b[0mTensorBoard\u001b[0m\u001b[1;33m(\u001b[0m\u001b[0mlog_dir\u001b[0m\u001b[1;33m=\u001b[0m\u001b[1;34m'mytensorboard/424_2'\u001b[0m\u001b[1;33m,\u001b[0m \u001b[0mhistogram_freq\u001b[0m\u001b[1;33m=\u001b[0m\u001b[1;36m0\u001b[0m\u001b[1;33m,\u001b[0m \u001b[0mwrite_graph\u001b[0m\u001b[1;33m=\u001b[0m\u001b[1;32mTrue\u001b[0m\u001b[1;33m,\u001b[0m \u001b[0mwrite_images\u001b[0m\u001b[1;33m=\u001b[0m\u001b[1;32mTrue\u001b[0m\u001b[1;33m)\u001b[0m\u001b[1;33m\u001b[0m\u001b[0m\n\u001b[0m",
      "\u001b[1;31mNameError\u001b[0m: name 'keras' is not defined"
     ]
    }
   ],
   "source": [
    "\n"
   ]
  },
  {
   "cell_type": "code",
   "execution_count": 14,
   "metadata": {},
   "outputs": [
    {
     "name": "stdout",
     "output_type": "stream",
     "text": [
      "WARNING:tensorflow:From g:\\python35\\lib\\site-packages\\tensorflow\\contrib\\learn\\python\\learn\\datasets\\base.py:198: retry (from tensorflow.contrib.learn.python.learn.datasets.base) is deprecated and will be removed in a future version.\n",
      "Instructions for updating:\n",
      "Use the retry module or similar alternatives.\n"
     ]
    }
   ],
   "source": [
    "\n",
    "    \n",
    "import keras\n",
    "tbCallBack = keras.callbacks.TensorBoard(log_dir='mytensorboard/424_2', histogram_freq=0, write_graph=True, write_images=True)      \n",
    "happyModel.compile(optimizer=keras.optimizers.Adam(lr=0.0009, beta_1=0.9, beta_2=0.999, epsilon=1e-08, decay=0.0), loss='binary_crossentropy', metrics=['accuracy'])\n"
   ]
  },
  {
   "cell_type": "code",
   "execution_count": 15,
   "metadata": {},
   "outputs": [
    {
     "name": "stdout",
     "output_type": "stream",
     "text": [
      "Epoch 1/20\n",
      "1488/1488 [==============================] - 201s 135ms/step - loss: 1.0428 - acc: 0.6317\n",
      "Epoch 2/20\n",
      "1488/1488 [==============================] - 200s 134ms/step - loss: 0.4487 - acc: 0.7856\n",
      "Epoch 3/20\n",
      "1488/1488 [==============================] - 200s 134ms/step - loss: 0.4915 - acc: 0.7802\n",
      "Epoch 4/20\n",
      "1488/1488 [==============================] - 207s 139ms/step - loss: 0.3707 - acc: 0.8219\n",
      "Epoch 5/20\n",
      "1488/1488 [==============================] - 206s 138ms/step - loss: 0.2136 - acc: 0.9173\n",
      "Epoch 6/20\n",
      "1488/1488 [==============================] - 207s 139ms/step - loss: 0.1716 - acc: 0.9395\n",
      "Epoch 7/20\n",
      "1488/1488 [==============================] - 202s 135ms/step - loss: 0.1261 - acc: 0.9651\n",
      "Epoch 8/20\n",
      "1488/1488 [==============================] - 207s 139ms/step - loss: 0.0968 - acc: 0.9792\n",
      "Epoch 9/20\n",
      "1488/1488 [==============================] - 200s 135ms/step - loss: 0.0623 - acc: 0.9926\n",
      "Epoch 10/20\n",
      "1488/1488 [==============================] - 199s 134ms/step - loss: 0.0630 - acc: 0.9886\n",
      "Epoch 11/20\n",
      "1488/1488 [==============================] - 202s 136ms/step - loss: 0.0333 - acc: 1.0000\n",
      "Epoch 12/20\n",
      "1488/1488 [==============================] - 201s 135ms/step - loss: 0.0241 - acc: 1.0000\n",
      "Epoch 13/20\n",
      "1488/1488 [==============================] - 198s 133ms/step - loss: 0.0215 - acc: 1.0000\n",
      "Epoch 14/20\n",
      "1488/1488 [==============================] - 200s 134ms/step - loss: 0.0165 - acc: 1.0000\n",
      "Epoch 15/20\n",
      "1488/1488 [==============================] - 198s 133ms/step - loss: 0.0170 - acc: 1.0000\n",
      "Epoch 16/20\n",
      "1488/1488 [==============================] - 201s 135ms/step - loss: 0.0117 - acc: 1.0000\n",
      "Epoch 17/20\n",
      "1488/1488 [==============================] - 202s 136ms/step - loss: 0.0103 - acc: 1.0000\n",
      "Epoch 18/20\n",
      "1488/1488 [==============================] - 202s 136ms/step - loss: 0.0094 - acc: 1.0000\n",
      "Epoch 19/20\n",
      "1488/1488 [==============================] - 203s 137ms/step - loss: 0.0083 - acc: 1.0000\n",
      "Epoch 20/20\n",
      "1488/1488 [==============================] - 200s 134ms/step - loss: 0.0076 - acc: 1.0000\n"
     ]
    },
    {
     "data": {
      "text/plain": [
       "<keras.callbacks.History at 0x1516d128>"
      ]
     },
     "execution_count": 15,
     "metadata": {},
     "output_type": "execute_result"
    }
   ],
   "source": [
    "\n",
    "happyModel.fit(x=X_train, y=Y_train, batch_size=32, epochs=20,callbacks=[tbCallBack])"
   ]
  },
  {
   "cell_type": "code",
   "execution_count": null,
   "metadata": {},
   "outputs": [],
   "source": []
  },
  {
   "cell_type": "code",
   "execution_count": 16,
   "metadata": {},
   "outputs": [
    {
     "name": "stdout",
     "output_type": "stream",
     "text": [
      "450/450 [==============================] - 20s 45ms/step\n",
      "\n",
      "Loss = 0.6408411026000976\n",
      "Test Accuracy = 0.7911111111111111\n"
     ]
    }
   ],
   "source": [
    "preds = happyModel.evaluate(x=X_test, y=Y_test)\n",
    "\n",
    "print()\n",
    "print (\"Loss = \" + str(preds[0]))\n",
    "print (\"Test Accuracy = \" + str(preds[1]))"
   ]
  },
  {
   "cell_type": "code",
   "execution_count": null,
   "metadata": {},
   "outputs": [],
   "source": []
  },
  {
   "cell_type": "code",
   "execution_count": 17,
   "metadata": {
    "scrolled": false
   },
   "outputs": [
    {
     "name": "stdout",
     "output_type": "stream",
     "text": [
      "[[0.]]\n",
      "[[0.01335252]]\n"
     ]
    },
    {
     "data": {
      "image/png": "[encoded data removed]",
      "text/plain": [
       "<Figure size 432x288 with 1 Axes>"
      ]
     },
     "metadata": {},
     "output_type": "display_data"
    }
   ],
   "source": [
    "img_path = 'images/cat.19.jpg'\n",
    "\n",
    "# grayscale=True  添加此参数表示，图片为灰阶图像，维度1。\n",
    "img = image.load_img(img_path, target_size=(225, 300),grayscale=True)\n",
    "\n",
    "imshow(img)\n",
    "\n",
    "x = image.img_to_array(img)\n",
    "\n",
    "# print(\"1:\" + str(x.shape))\n",
    "\n",
    "x = np.expand_dims(x, axis=0)\n",
    "\n",
    "\n",
    "print(happyModel.predict(x))\n",
    "\n",
    "#加这个可以看到具体的值，这个值的具体含义不是特别清楚\n",
    "x = x/255\n",
    "print(happyModel.predict(x))\n",
    "\n"
   ]
  },
  {
   "cell_type": "code",
   "execution_count": 18,
   "metadata": {},
   "outputs": [
    {
     "name": "stdout",
     "output_type": "stream",
     "text": [
      "_________________________________________________________________\n",
      "Layer (type)                 Output Shape              Param #   \n",
      "=================================================================\n",
      "input_2 (InputLayer)         (None, 225, 300, 1)       0         \n",
      "_________________________________________________________________\n",
      "zero_padding2d_4 (ZeroPaddin (None, 227, 302, 1)       0         \n",
      "_________________________________________________________________\n",
      "conv2d_4 (Conv2D)            (None, 225, 300, 8)       80        \n",
      "_________________________________________________________________\n",
      "batch_normalization_4 (Batch (None, 225, 300, 8)       32        \n",
      "_________________________________________________________________\n",
      "activation_4 (Activation)    (None, 225, 300, 8)       0         \n",
      "_________________________________________________________________\n",
      "max_pooling2d_4 (MaxPooling2 (None, 112, 150, 8)       0         \n",
      "_________________________________________________________________\n",
      "zero_padding2d_5 (ZeroPaddin (None, 114, 152, 8)       0         \n",
      "_________________________________________________________________\n",
      "conv2d_5 (Conv2D)            (None, 112, 150, 16)      1168      \n",
      "_________________________________________________________________\n",
      "batch_normalization_5 (Batch (None, 112, 150, 16)      64        \n",
      "_________________________________________________________________\n",
      "activation_5 (Activation)    (None, 112, 150, 16)      0         \n",
      "_________________________________________________________________\n",
      "max_pooling2d_5 (MaxPooling2 (None, 56, 75, 16)        0         \n",
      "_________________________________________________________________\n",
      "zero_padding2d_6 (ZeroPaddin (None, 58, 77, 16)        0         \n",
      "_________________________________________________________________\n",
      "conv2d_6 (Conv2D)            (None, 56, 75, 32)        4640      \n",
      "_________________________________________________________________\n",
      "batch_normalization_6 (Batch (None, 56, 75, 32)        128       \n",
      "_________________________________________________________________\n",
      "activation_6 (Activation)    (None, 56, 75, 32)        0         \n",
      "_________________________________________________________________\n",
      "max_pooling2d_6 (MaxPooling2 (None, 28, 37, 32)        0         \n",
      "_________________________________________________________________\n",
      "flatten_2 (Flatten)          (None, 33152)             0         \n",
      "_________________________________________________________________\n",
      "dense_2 (Dense)              (None, 1)                 33153     \n",
      "=================================================================\n",
      "Total params: 39,265\n",
      "Trainable params: 39,153\n",
      "Non-trainable params: 112\n",
      "_________________________________________________________________\n"
     ]
    }
   ],
   "source": [
    "happyModel.summary()"
   ]
  },
  {
   "cell_type": "code",
   "execution_count": 31,
   "metadata": {},
   "outputs": [
    {
     "ename": "SyntaxError",
     "evalue": "invalid syntax (<ipython-input-31-bbc9d3217dd7>, line 2)",
     "output_type": "error",
     "traceback": [
      "\u001b[1;36m  File \u001b[1;32m\"<ipython-input-31-bbc9d3217dd7>\"\u001b[1;36m, line \u001b[1;32m2\u001b[0m\n\u001b[1;33m    import osos.environ[\"PATH\"] += os.pathsep + 'C:/Program Files (x86)/Graphviz2.38/bin/'\u001b[0m\n\u001b[1;37m                       ^\u001b[0m\n\u001b[1;31mSyntaxError\u001b[0m\u001b[1;31m:\u001b[0m invalid syntax\n"
     ]
    }
   ],
   "source": [
    "import osos.environ[\"PATH\"] += os.pathsep + 'C:/Program Files (x86)/Graphviz2.38/bin/'\n",
    "plot_model(happyModel, to_file='HappyModel.png')\n",
    "SVG(model_to_dot(happyModel).create(prog='dot', format='svg'))"
   ]
  },
  {
   "cell_type": "code",
   "execution_count": null,
   "metadata": {},
   "outputs": [],
   "source": [
    "plot_model(happyModel, to_file='HappyModel.png')\n",
    "SVG(model_to_dot(happyModel).create(prog='dot', format='svg'))"
   ]
  }
 ],
 "metadata": {
  "kernelspec": {
   "display_name": "Python 3",
   "language": "python",
   "name": "python3"
  },
  "language_info": {
   "codemirror_mode": {
    "name": "ipython",
    "version": 3
   },
   "file_extension": ".py",
   "mimetype": "text/x-python",
   "name": "python",
   "nbconvert_exporter": "python",
   "pygments_lexer": "ipython3",
   "version": "3.5.1"
  }
 },
 "nbformat": 4,
 "nbformat_minor": 2
}
